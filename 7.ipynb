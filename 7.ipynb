{
 "cells": [
  {
   "cell_type": "code",
   "execution_count": null,
   "id": "901ed804-6ed6-41d9-a8a6-049effd5a61a",
   "metadata": {},
   "outputs": [],
   "source": [
    "class vehical:\n",
    "    def __init__(self,name_of_vehical,max_speed_vehical,average_of_vehical):\n",
    "        self.name_of_vehical=name_of_vehical\n",
    "        self.max_speed_vehical=max_speed_vehical\n",
    "        self.average_of_vehical=average_of_vehical\n",
    "        \n",
    "car=vehical(\"mustang\",200,15)\n"
   ]
  },
  {
   "cell_type": "code",
   "execution_count": null,
   "id": "8f4442fd-f220-4118-9c0e-59988fe419af",
   "metadata": {},
   "outputs": [],
   "source": [
    "class vehical:\n",
    "    def __init__(self,name_of_vehical,max_speed_vehical,average_of_vehical):\n",
    "        self.name_of_vehical=name_of_vehical\n",
    "        self.max_speed_vehical=max_speed_vehical\n",
    "        self.average_of_vehical=average_of_vehical\n",
    "class car(vehical):\n",
    "    def seating_capacity(self,seating_capacity):\n",
    "        return f\"{self.name_of_vehical} has {seating_capacity}\"\n",
    "mustang=car(\"mustang\",200,30)\n",
    "print(mustang.seating_capacity(4))\n"
   ]
  },
  {
   "cell_type": "code",
   "execution_count": null,
   "id": "3711afff-df9a-4415-aea3-81804134d253",
   "metadata": {},
   "outputs": [],
   "source": [
    "\"\"\"Multiple inheritance is a feature of object-oriented programming that allows a class to inherit properties and behavior from multiple parent classes.\n",
    "In Python, multiple inheritance is supported, which means that a class can inherit from more than one base class.\"\"\"\n",
    "class Animal:\n",
    "    def __init__(self, species):\n",
    "        self.species = species\n",
    "\n",
    "    def eat(self):\n",
    "        print(\"The animal is eating...\")\n",
    "\n",
    "class Mammal:\n",
    "    def __init__(self, name):\n",
    "        self.name = name\n",
    "\n",
    "    def feed_milk(self):\n",
    "        print(\"The mammal is feeding milk...\")\n",
    "\n",
    "class Dog(Animal, Mammal):\n",
    "    def __init__(self, name, breed):\n",
    "        Animal.__init__(self, \"dog\")\n",
    "        Mammal.__init__(self, name)\n",
    "        self.breed = breed\n",
    "\n",
    "    def bark(self):\n",
    "        print(\"Woof!\")\n",
    "\n",
    "dog = Dog(\"Buddy\", \"Labrador Retriever\")\n",
    "print(dog.species) # Output: dog\n",
    "print(dog.name) # Output: Buddy\n",
    "dog.feed_milk() # Output: The mammal is feeding milk...\n",
    "dog.eat() # Output: The animal is eating...\n",
    "dog.bark() # Output: Woof!\n"
   ]
  },
  {
   "cell_type": "code",
   "execution_count": null,
   "id": "839c4e41-60ae-412c-8476-cd55394de064",
   "metadata": {},
   "outputs": [],
   "source": [
    "\"\"\"in Python, getters and setters are methods that are used to access and modify the values of private class attributes. \n",
    "A getter method returns the value of a private attribute, while a setter method modifies its value.\"\"\"\n",
    "\n",
    "class Person:\n",
    "    def __init__(self,name,age):\n",
    "        self.name=name\n",
    "        self.__age=age\n",
    "        \n",
    "    def get_age(self):\n",
    "        return self.__age\n",
    "    def set_age(self,age):\n",
    "        if age<0:\n",
    "            print(\"invalid age\")\n",
    "        else:\n",
    "            self.__age=age\n",
    "p=Person(\"sagar\",25)\n",
    "print(p.get_age())\n",
    "p.set_age(30)\n",
    "p.get_age()\n",
    "        \n",
    "\n"
   ]
  },
  {
   "cell_type": "code",
   "execution_count": 16,
   "id": "671c18ad-f848-4c51-ba00-9ff509eec3e2",
   "metadata": {},
   "outputs": [
    {
     "data": {
      "text/plain": [
       "<bound method rectangle.area of <__main__.rectangle object at 0x7fb36e3681f0>>"
      ]
     },
     "execution_count": 16,
     "metadata": {},
     "output_type": "execute_result"
    }
   ],
   "source": [
    "\"\"\"Method overriding is a concept in object-oriented programming where a subclass provides its own implementation of a method that\n",
    "is already defined in its superclass. \n",
    "In Python, this can be achieved by defining a method with the same name as the method in the superclass.\"\"\"\n",
    "\n",
    "class shape:\n",
    "    def area(self):\n",
    "        pass\n",
    "class rectangle(shape):\n",
    "    def __init__(self,length,breath):\n",
    "        self.length=length\n",
    "        self.breath=breath\n",
    "    def area(self):\n",
    "        return self.length*self.breath\n",
    "class circle(shape):\n",
    "    def __init__(self,radius):\n",
    "        self.radius=radius\n",
    "    def area(self):\n",
    "        return self.radius*self.radius\n",
    "a=rectangle(5,4)\n",
    "a.area"
   ]
  },
  {
   "cell_type": "code",
   "execution_count": null,
   "id": "cb294b97-4e7b-45b9-8dce-f0dab94ed113",
   "metadata": {},
   "outputs": [],
   "source": []
  }
 ],
 "metadata": {
  "kernelspec": {
   "display_name": "Python 3 (ipykernel)",
   "language": "python",
   "name": "python3"
  },
  "language_info": {
   "codemirror_mode": {
    "name": "ipython",
    "version": 3
   },
   "file_extension": ".py",
   "mimetype": "text/x-python",
   "name": "python",
   "nbconvert_exporter": "python",
   "pygments_lexer": "ipython3",
   "version": "3.10.8"
  }
 },
 "nbformat": 4,
 "nbformat_minor": 5
}
